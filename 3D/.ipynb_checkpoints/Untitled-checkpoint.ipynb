{
 "cells": [
  {
   "cell_type": "code",
   "execution_count": null,
   "metadata": {},
   "outputs": [],
   "source": []
  },
  {
   "cell_type": "code",
   "execution_count": null,
   "metadata": {},
   "outputs": [],
   "source": [
    "latitude = 3.9525536\n",
    "longitude = 50.4545097\n",
    "size = 100"
   ]
  },
  {
   "cell_type": "code",
   "execution_count": null,
   "metadata": {},
   "outputs": [],
   "source": [
    "p = gpd.GeoSeries([Point(longitude, latitude)])\n",
    "p.crs = 'epsg:4326'\n",
    "p = p.to_crs(epsg=31370)\n",
    "\n",
    "x = p[0].x\n",
    "y = p[0].y"
   ]
  },
  {
   "cell_type": "code",
   "execution_count": null,
   "metadata": {},
   "outputs": [],
   "source": [
    "hainaut = pd.read_csv('./hainaut.csv')"
   ]
  },
  {
   "cell_type": "code",
   "execution_count": null,
   "metadata": {},
   "outputs": [],
   "source": [
    "place = hainaut[(hainaut[\"x\"] <= x + size) & \n",
    "            (hainaut[\"x\"] >= x - size) & \n",
    "            (hainaut[\"y\"] <= y + size) & \n",
    "            (hainaut[\"y\"] >= y - size)]"
   ]
  },
  {
   "cell_type": "code",
   "execution_count": null,
   "metadata": {},
   "outputs": [],
   "source": [
    "meanx = place['x'].mean()\n",
    "meany = place['y'].mean()\n",
    "minz = place['z'].min()\n",
    "\n",
    "final = pd.DataFrame()\n",
    "final['x'] = place['x'] - meanx\n",
    "final['y'] = place['y'] - meany\n",
    "final['z'] = place['z'] - minz"
   ]
  },
  {
   "cell_type": "code",
   "execution_count": null,
   "metadata": {},
   "outputs": [],
   "source": [
    "pcd = o3d.geometry.PointCloud()\n",
    "pcd.points = o3d.utility.Vector3dVector(final.to_numpy())\n",
    "pcd.estimate_normals(search_param=o3d.geometry.KDTreeSearchParamHybrid(radius=0.1, max_nn=30))\n",
    "\n",
    "with o3d.utility.VerbosityContextManager(o3d.utility.VerbosityLevel.Debug) as cm:\n",
    "    poisson_mesh, densities = o3d.geometry.TriangleMesh.create_from_point_cloud_poisson(\n",
    "        pcd, depth=8, linear_fit =True)\n",
    "\n",
    "densities = np.asarray(densities)\n",
    "density_colors = plt.get_cmap('viridis')(\n",
    "    (densities - densities.min()) / (densities.max() - densities.min()))\n",
    "density_colors = density_colors[:, :3]\n",
    "density_mesh = o3d.geometry.TriangleMesh()\n",
    "density_mesh.vertices = poisson_mesh.vertices\n",
    "density_mesh.triangles = poisson_mesh.triangles\n",
    "density_mesh.triangle_normals = poisson_mesh.triangle_normals\n",
    "density_mesh.vertex_colors = o3d.utility.Vector3dVector(density_colors)\n",
    "\n",
    "vertices_to_remove = densities < np.quantile(densities, 0.01)\n",
    "density_mesh.remove_vertices_by_mask(vertices_to_remove)"
   ]
  },
  {
   "cell_type": "code",
   "execution_count": null,
   "metadata": {},
   "outputs": [],
   "source": [
    "o3d.io.write_triangle_mesh(\"./3D/3D_houses.obj\", density_mesh)"
   ]
  },
  {
   "cell_type": "code",
   "execution_count": null,
   "metadata": {},
   "outputs": [],
   "source": []
  },
  {
   "cell_type": "code",
   "execution_count": null,
   "metadata": {},
   "outputs": [],
   "source": []
  }
 ],
 "metadata": {
  "kernelspec": {
   "display_name": "Python 3.8.6 64-bit",
   "language": "python",
   "name": "python38664bit87d7fd7a3a8941cabf468d1dd0e87421"
  },
  "language_info": {
   "codemirror_mode": {
    "name": "ipython",
    "version": 3
   },
   "file_extension": ".py",
   "mimetype": "text/x-python",
   "name": "python",
   "nbconvert_exporter": "python",
   "pygments_lexer": "ipython3",
   "version": "3.8.6"
  }
 },
 "nbformat": 4,
 "nbformat_minor": 4
}
