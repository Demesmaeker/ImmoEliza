{
 "cells": [
  {
   "cell_type": "markdown",
   "metadata": {},
   "source": [
    "# 3D"
   ]
  },
  {
   "cell_type": "code",
   "execution_count": 1,
   "metadata": {},
   "outputs": [],
   "source": [
    "import numpy as np\n",
    "import pandas as pd\n",
    "import geopandas as gpd\n",
    "import matplotlib.pyplot as plt\n",
    "\n",
    "import geopy as gp\n",
    "\n",
    "from shapely.geometry import Point, Polygon\n",
    "\n",
    "import rasterio as rio\n",
    "from rasterio.plot import show\n",
    "from rasterio.windows import Window\n",
    "\n",
    "import earthpy as et\n",
    "import earthpy.spatial as es\n",
    "import earthpy.plot as ep\n",
    "\n",
    "import open3d as o3d"
   ]
  },
  {
   "cell_type": "code",
   "execution_count": 2,
   "metadata": {},
   "outputs": [],
   "source": [
    "from functions import *\n",
    "from raster2xyz import raster2xyz"
   ]
  },
  {
   "cell_type": "markdown",
   "metadata": {},
   "source": [
    "## Enter an address, get a location"
   ]
  },
  {
   "cell_type": "code",
   "execution_count": 3,
   "metadata": {},
   "outputs": [
    {
     "name": "stdout",
     "output_type": "stream",
     "text": [
      "Please, enter an address in Begium:\n",
      "mons grand place\n",
      "Latitude = 3.9525536, Longitude = 50.4545097, Postcode = 7000\n"
     ]
    }
   ],
   "source": [
    "# Google API\n",
    "\n",
    "country_code = -1\n",
    "\n",
    "while country_code != 'BE':\n",
    "    address = input(\"Please, enter an address in Begium:\\n\")\n",
    "\n",
    "    locator = gp.geocoders.GoogleV3(api_key='')\n",
    "    location = locator.geocode(address, timeout=10)\n",
    "\n",
    "    postcode = int(location.raw['address_components'][-1]['long_name'])\n",
    "    country_code = location.raw['address_components'][-2]['short_name']\n",
    "    coord = (location.latitude, location.longitude)\n",
    "\n",
    "print(\"Latitude = {}, Longitude = {}, Postcode = {}\".format(coord[1], coord[0], postcode))"
   ]
  },
  {
   "cell_type": "markdown",
   "metadata": {},
   "source": [
    "## From coordinates to correct crs"
   ]
  },
  {
   "cell_type": "code",
   "execution_count": 4,
   "metadata": {},
   "outputs": [
    {
     "name": "stdout",
     "output_type": "stream",
     "text": [
      "POINT (120444.9033320513 127156.6028031716)\n"
     ]
    }
   ],
   "source": [
    "p = gpd.GeoSeries([Point(coord[1], coord[0])])\n",
    "p.crs = 'epsg:4326'\n",
    "p = p.to_crs(epsg=31370)\n",
    "print(p[0])\n",
    "\n",
    "x = p[0].x\n",
    "y = p[0].y"
   ]
  },
  {
   "cell_type": "code",
   "execution_count": 5,
   "metadata": {},
   "outputs": [],
   "source": [
    "path_dsm = set_path_dsm('HAINAUT')"
   ]
  },
  {
   "cell_type": "markdown",
   "metadata": {},
   "source": [
    "## Transform the dsm into dataframe"
   ]
  },
  {
   "cell_type": "code",
   "execution_count": 6,
   "metadata": {},
   "outputs": [],
   "source": [
    "shape = [{'type': 'Polygon', \n",
    "          'coordinates': [[(x+740, y+740), \n",
    "                           (x-740, y+740), \n",
    "                           (x-740, y-740), \n",
    "                           (x+740, y-740)]]}]"
   ]
  },
  {
   "cell_type": "code",
   "execution_count": 7,
   "metadata": {},
   "outputs": [],
   "source": [
    "base_dsm = raster2xyz.translate_from_cropped(get_mask(path_dsm, shape))"
   ]
  },
  {
   "cell_type": "code",
   "execution_count": 8,
   "metadata": {},
   "outputs": [
    {
     "data": {
      "text/html": [
       "<div>\n",
       "<style scoped>\n",
       "    .dataframe tbody tr th:only-of-type {\n",
       "        vertical-align: middle;\n",
       "    }\n",
       "\n",
       "    .dataframe tbody tr th {\n",
       "        vertical-align: top;\n",
       "    }\n",
       "\n",
       "    .dataframe thead th {\n",
       "        text-align: right;\n",
       "    }\n",
       "</style>\n",
       "<table border=\"1\" class=\"dataframe\">\n",
       "  <thead>\n",
       "    <tr style=\"text-align: right;\">\n",
       "      <th></th>\n",
       "      <th>x</th>\n",
       "      <th>y</th>\n",
       "      <th>z</th>\n",
       "    </tr>\n",
       "  </thead>\n",
       "  <tbody>\n",
       "    <tr>\n",
       "      <th>count</th>\n",
       "      <td>2.193361e+06</td>\n",
       "      <td>2.193361e+06</td>\n",
       "      <td>2.193361e+06</td>\n",
       "    </tr>\n",
       "    <tr>\n",
       "      <th>mean</th>\n",
       "      <td>7.400000e+02</td>\n",
       "      <td>7.400000e+02</td>\n",
       "      <td>4.268991e+01</td>\n",
       "    </tr>\n",
       "    <tr>\n",
       "      <th>std</th>\n",
       "      <td>4.275279e+02</td>\n",
       "      <td>4.275279e+02</td>\n",
       "      <td>9.988903e+00</td>\n",
       "    </tr>\n",
       "    <tr>\n",
       "      <th>min</th>\n",
       "      <td>0.000000e+00</td>\n",
       "      <td>0.000000e+00</td>\n",
       "      <td>2.739000e+01</td>\n",
       "    </tr>\n",
       "    <tr>\n",
       "      <th>25%</th>\n",
       "      <td>3.700000e+02</td>\n",
       "      <td>3.700000e+02</td>\n",
       "      <td>3.449937e+01</td>\n",
       "    </tr>\n",
       "    <tr>\n",
       "      <th>50%</th>\n",
       "      <td>7.400000e+02</td>\n",
       "      <td>7.400000e+02</td>\n",
       "      <td>3.961192e+01</td>\n",
       "    </tr>\n",
       "    <tr>\n",
       "      <th>75%</th>\n",
       "      <td>1.110000e+03</td>\n",
       "      <td>1.110000e+03</td>\n",
       "      <td>4.848000e+01</td>\n",
       "    </tr>\n",
       "    <tr>\n",
       "      <th>max</th>\n",
       "      <td>1.480000e+03</td>\n",
       "      <td>1.480000e+03</td>\n",
       "      <td>1.422800e+02</td>\n",
       "    </tr>\n",
       "  </tbody>\n",
       "</table>\n",
       "</div>"
      ],
      "text/plain": [
       "                  x             y             z\n",
       "count  2.193361e+06  2.193361e+06  2.193361e+06\n",
       "mean   7.400000e+02  7.400000e+02  4.268991e+01\n",
       "std    4.275279e+02  4.275279e+02  9.988903e+00\n",
       "min    0.000000e+00  0.000000e+00  2.739000e+01\n",
       "25%    3.700000e+02  3.700000e+02  3.449937e+01\n",
       "50%    7.400000e+02  7.400000e+02  3.961192e+01\n",
       "75%    1.110000e+03  1.110000e+03  4.848000e+01\n",
       "max    1.480000e+03  1.480000e+03  1.422800e+02"
      ]
     },
     "execution_count": 8,
     "metadata": {},
     "output_type": "execute_result"
    }
   ],
   "source": [
    "base_dsm[0].describe()"
   ]
  },
  {
   "cell_type": "code",
   "execution_count": 9,
   "metadata": {},
   "outputs": [
    {
     "data": {
      "text/html": [
       "<div>\n",
       "<style scoped>\n",
       "    .dataframe tbody tr th:only-of-type {\n",
       "        vertical-align: middle;\n",
       "    }\n",
       "\n",
       "    .dataframe tbody tr th {\n",
       "        vertical-align: top;\n",
       "    }\n",
       "\n",
       "    .dataframe thead th {\n",
       "        text-align: right;\n",
       "    }\n",
       "</style>\n",
       "<table border=\"1\" class=\"dataframe\">\n",
       "  <thead>\n",
       "    <tr style=\"text-align: right;\">\n",
       "      <th></th>\n",
       "      <th>x</th>\n",
       "      <th>y</th>\n",
       "      <th>z</th>\n",
       "    </tr>\n",
       "  </thead>\n",
       "  <tbody>\n",
       "    <tr>\n",
       "      <th>0</th>\n",
       "      <td>0</td>\n",
       "      <td>0</td>\n",
       "      <td>31.150000</td>\n",
       "    </tr>\n",
       "    <tr>\n",
       "      <th>1</th>\n",
       "      <td>1</td>\n",
       "      <td>0</td>\n",
       "      <td>31.299999</td>\n",
       "    </tr>\n",
       "    <tr>\n",
       "      <th>2</th>\n",
       "      <td>2</td>\n",
       "      <td>0</td>\n",
       "      <td>31.650000</td>\n",
       "    </tr>\n",
       "    <tr>\n",
       "      <th>3</th>\n",
       "      <td>3</td>\n",
       "      <td>0</td>\n",
       "      <td>31.190001</td>\n",
       "    </tr>\n",
       "    <tr>\n",
       "      <th>4</th>\n",
       "      <td>4</td>\n",
       "      <td>0</td>\n",
       "      <td>31.160000</td>\n",
       "    </tr>\n",
       "    <tr>\n",
       "      <th>...</th>\n",
       "      <td>...</td>\n",
       "      <td>...</td>\n",
       "      <td>...</td>\n",
       "    </tr>\n",
       "    <tr>\n",
       "      <th>2193356</th>\n",
       "      <td>1476</td>\n",
       "      <td>1480</td>\n",
       "      <td>33.540001</td>\n",
       "    </tr>\n",
       "    <tr>\n",
       "      <th>2193357</th>\n",
       "      <td>1477</td>\n",
       "      <td>1480</td>\n",
       "      <td>33.549999</td>\n",
       "    </tr>\n",
       "    <tr>\n",
       "      <th>2193358</th>\n",
       "      <td>1478</td>\n",
       "      <td>1480</td>\n",
       "      <td>33.580002</td>\n",
       "    </tr>\n",
       "    <tr>\n",
       "      <th>2193359</th>\n",
       "      <td>1479</td>\n",
       "      <td>1480</td>\n",
       "      <td>33.590000</td>\n",
       "    </tr>\n",
       "    <tr>\n",
       "      <th>2193360</th>\n",
       "      <td>1480</td>\n",
       "      <td>1480</td>\n",
       "      <td>33.590000</td>\n",
       "    </tr>\n",
       "  </tbody>\n",
       "</table>\n",
       "<p>2193361 rows × 3 columns</p>\n",
       "</div>"
      ],
      "text/plain": [
       "            x     y          z\n",
       "0           0     0  31.150000\n",
       "1           1     0  31.299999\n",
       "2           2     0  31.650000\n",
       "3           3     0  31.190001\n",
       "4           4     0  31.160000\n",
       "...       ...   ...        ...\n",
       "2193356  1476  1480  33.540001\n",
       "2193357  1477  1480  33.549999\n",
       "2193358  1478  1480  33.580002\n",
       "2193359  1479  1480  33.590000\n",
       "2193360  1480  1480  33.590000\n",
       "\n",
       "[2193361 rows x 3 columns]"
      ]
     },
     "execution_count": 9,
     "metadata": {},
     "output_type": "execute_result"
    }
   ],
   "source": [
    "base_dsm[0]"
   ]
  },
  {
   "cell_type": "code",
   "execution_count": 10,
   "metadata": {},
   "outputs": [
    {
     "data": {
      "text/plain": [
       "(119704.0, 127896.99999999927)"
      ]
     },
     "execution_count": 10,
     "metadata": {},
     "output_type": "execute_result"
    }
   ],
   "source": [
    "base_dsm[1]"
   ]
  },
  {
   "cell_type": "code",
   "execution_count": 11,
   "metadata": {},
   "outputs": [
    {
     "name": "stdout",
     "output_type": "stream",
     "text": [
      "119704.90333205133 126416.60280317161\n"
     ]
    }
   ],
   "source": [
    "print(x - 740, y - 740)"
   ]
  },
  {
   "cell_type": "code",
   "execution_count": 12,
   "metadata": {},
   "outputs": [],
   "source": [
    "df_base_dsm = get_dataframe(base_dsm)"
   ]
  },
  {
   "cell_type": "code",
   "execution_count": 13,
   "metadata": {},
   "outputs": [
    {
     "data": {
      "text/html": [
       "<div>\n",
       "<style scoped>\n",
       "    .dataframe tbody tr th:only-of-type {\n",
       "        vertical-align: middle;\n",
       "    }\n",
       "\n",
       "    .dataframe tbody tr th {\n",
       "        vertical-align: top;\n",
       "    }\n",
       "\n",
       "    .dataframe thead th {\n",
       "        text-align: right;\n",
       "    }\n",
       "</style>\n",
       "<table border=\"1\" class=\"dataframe\">\n",
       "  <thead>\n",
       "    <tr style=\"text-align: right;\">\n",
       "      <th></th>\n",
       "      <th>x</th>\n",
       "      <th>y</th>\n",
       "      <th>z</th>\n",
       "    </tr>\n",
       "  </thead>\n",
       "  <tbody>\n",
       "    <tr>\n",
       "      <th>count</th>\n",
       "      <td>2.193361e+06</td>\n",
       "      <td>2.193361e+06</td>\n",
       "      <td>2.193361e+06</td>\n",
       "    </tr>\n",
       "    <tr>\n",
       "      <th>mean</th>\n",
       "      <td>1.204440e+05</td>\n",
       "      <td>1.286370e+05</td>\n",
       "      <td>4.268991e+01</td>\n",
       "    </tr>\n",
       "    <tr>\n",
       "      <th>std</th>\n",
       "      <td>4.275279e+02</td>\n",
       "      <td>4.275279e+02</td>\n",
       "      <td>9.988903e+00</td>\n",
       "    </tr>\n",
       "    <tr>\n",
       "      <th>min</th>\n",
       "      <td>1.197040e+05</td>\n",
       "      <td>1.278970e+05</td>\n",
       "      <td>2.739000e+01</td>\n",
       "    </tr>\n",
       "    <tr>\n",
       "      <th>25%</th>\n",
       "      <td>1.200740e+05</td>\n",
       "      <td>1.282670e+05</td>\n",
       "      <td>3.449937e+01</td>\n",
       "    </tr>\n",
       "    <tr>\n",
       "      <th>50%</th>\n",
       "      <td>1.204440e+05</td>\n",
       "      <td>1.286370e+05</td>\n",
       "      <td>3.961192e+01</td>\n",
       "    </tr>\n",
       "    <tr>\n",
       "      <th>75%</th>\n",
       "      <td>1.208140e+05</td>\n",
       "      <td>1.290070e+05</td>\n",
       "      <td>4.848000e+01</td>\n",
       "    </tr>\n",
       "    <tr>\n",
       "      <th>max</th>\n",
       "      <td>1.211840e+05</td>\n",
       "      <td>1.293770e+05</td>\n",
       "      <td>1.422800e+02</td>\n",
       "    </tr>\n",
       "  </tbody>\n",
       "</table>\n",
       "</div>"
      ],
      "text/plain": [
       "                  x             y             z\n",
       "count  2.193361e+06  2.193361e+06  2.193361e+06\n",
       "mean   1.204440e+05  1.286370e+05  4.268991e+01\n",
       "std    4.275279e+02  4.275279e+02  9.988903e+00\n",
       "min    1.197040e+05  1.278970e+05  2.739000e+01\n",
       "25%    1.200740e+05  1.282670e+05  3.449937e+01\n",
       "50%    1.204440e+05  1.286370e+05  3.961192e+01\n",
       "75%    1.208140e+05  1.290070e+05  4.848000e+01\n",
       "max    1.211840e+05  1.293770e+05  1.422800e+02"
      ]
     },
     "execution_count": 13,
     "metadata": {},
     "output_type": "execute_result"
    }
   ],
   "source": [
    "df_base_dsm.describe()"
   ]
  },
  {
   "cell_type": "code",
   "execution_count": 14,
   "metadata": {
    "scrolled": true
   },
   "outputs": [
    {
     "data": {
      "text/html": [
       "<div>\n",
       "<style scoped>\n",
       "    .dataframe tbody tr th:only-of-type {\n",
       "        vertical-align: middle;\n",
       "    }\n",
       "\n",
       "    .dataframe tbody tr th {\n",
       "        vertical-align: top;\n",
       "    }\n",
       "\n",
       "    .dataframe thead th {\n",
       "        text-align: right;\n",
       "    }\n",
       "</style>\n",
       "<table border=\"1\" class=\"dataframe\">\n",
       "  <thead>\n",
       "    <tr style=\"text-align: right;\">\n",
       "      <th></th>\n",
       "      <th>x</th>\n",
       "      <th>y</th>\n",
       "      <th>z</th>\n",
       "    </tr>\n",
       "  </thead>\n",
       "  <tbody>\n",
       "    <tr>\n",
       "      <th>0</th>\n",
       "      <td>119704.0</td>\n",
       "      <td>127897.0</td>\n",
       "      <td>31.150000</td>\n",
       "    </tr>\n",
       "    <tr>\n",
       "      <th>1</th>\n",
       "      <td>119705.0</td>\n",
       "      <td>127897.0</td>\n",
       "      <td>31.299999</td>\n",
       "    </tr>\n",
       "    <tr>\n",
       "      <th>2</th>\n",
       "      <td>119706.0</td>\n",
       "      <td>127897.0</td>\n",
       "      <td>31.650000</td>\n",
       "    </tr>\n",
       "    <tr>\n",
       "      <th>3</th>\n",
       "      <td>119707.0</td>\n",
       "      <td>127897.0</td>\n",
       "      <td>31.190001</td>\n",
       "    </tr>\n",
       "    <tr>\n",
       "      <th>4</th>\n",
       "      <td>119708.0</td>\n",
       "      <td>127897.0</td>\n",
       "      <td>31.160000</td>\n",
       "    </tr>\n",
       "    <tr>\n",
       "      <th>...</th>\n",
       "      <td>...</td>\n",
       "      <td>...</td>\n",
       "      <td>...</td>\n",
       "    </tr>\n",
       "    <tr>\n",
       "      <th>2193356</th>\n",
       "      <td>121180.0</td>\n",
       "      <td>129377.0</td>\n",
       "      <td>33.540001</td>\n",
       "    </tr>\n",
       "    <tr>\n",
       "      <th>2193357</th>\n",
       "      <td>121181.0</td>\n",
       "      <td>129377.0</td>\n",
       "      <td>33.549999</td>\n",
       "    </tr>\n",
       "    <tr>\n",
       "      <th>2193358</th>\n",
       "      <td>121182.0</td>\n",
       "      <td>129377.0</td>\n",
       "      <td>33.580002</td>\n",
       "    </tr>\n",
       "    <tr>\n",
       "      <th>2193359</th>\n",
       "      <td>121183.0</td>\n",
       "      <td>129377.0</td>\n",
       "      <td>33.590000</td>\n",
       "    </tr>\n",
       "    <tr>\n",
       "      <th>2193360</th>\n",
       "      <td>121184.0</td>\n",
       "      <td>129377.0</td>\n",
       "      <td>33.590000</td>\n",
       "    </tr>\n",
       "  </tbody>\n",
       "</table>\n",
       "<p>2193361 rows × 3 columns</p>\n",
       "</div>"
      ],
      "text/plain": [
       "                x         y          z\n",
       "0        119704.0  127897.0  31.150000\n",
       "1        119705.0  127897.0  31.299999\n",
       "2        119706.0  127897.0  31.650000\n",
       "3        119707.0  127897.0  31.190001\n",
       "4        119708.0  127897.0  31.160000\n",
       "...           ...       ...        ...\n",
       "2193356  121180.0  129377.0  33.540001\n",
       "2193357  121181.0  129377.0  33.549999\n",
       "2193358  121182.0  129377.0  33.580002\n",
       "2193359  121183.0  129377.0  33.590000\n",
       "2193360  121184.0  129377.0  33.590000\n",
       "\n",
       "[2193361 rows x 3 columns]"
      ]
     },
     "execution_count": 14,
     "metadata": {},
     "output_type": "execute_result"
    }
   ],
   "source": [
    "df_base_dsm"
   ]
  },
  {
   "cell_type": "code",
   "execution_count": 15,
   "metadata": {},
   "outputs": [],
   "source": [
    "df_base_dsm.to_csv('hainaut.csv', index=False)"
   ]
  },
  {
   "cell_type": "code",
   "execution_count": 16,
   "metadata": {},
   "outputs": [],
   "source": [
    "show_pcd(df_base_dsm)"
   ]
  },
  {
   "cell_type": "code",
   "execution_count": 17,
   "metadata": {},
   "outputs": [
    {
     "name": "stdout",
     "output_type": "stream",
     "text": [
      "120444.90333205133\n",
      "127156.60280317161\n"
     ]
    }
   ],
   "source": [
    "print(x)\n",
    "print(y)"
   ]
  },
  {
   "cell_type": "code",
   "execution_count": 18,
   "metadata": {},
   "outputs": [
    {
     "data": {
      "text/plain": [
       "120444.0"
      ]
     },
     "execution_count": 18,
     "metadata": {},
     "output_type": "execute_result"
    }
   ],
   "source": [
    "df_base_dsm['x'].mean()"
   ]
  },
  {
   "cell_type": "code",
   "execution_count": 19,
   "metadata": {},
   "outputs": [
    {
     "data": {
      "text/plain": [
       "128636.99999999978"
      ]
     },
     "execution_count": 19,
     "metadata": {},
     "output_type": "execute_result"
    }
   ],
   "source": [
    "df_base_dsm['y'].mean()"
   ]
  },
  {
   "cell_type": "code",
   "execution_count": 20,
   "metadata": {},
   "outputs": [],
   "source": [
    "small = df_base_dsm[(df_base_dsm[\"x\"] <= x + 25) & \n",
    "                    (df_base_dsm[\"x\"] >= x - 25) & \n",
    "                    (df_base_dsm[\"y\"] <= y + 25) & \n",
    "                     (df_base_dsm[\"y\"] >= x - 25)]"
   ]
  },
  {
   "cell_type": "code",
   "execution_count": 21,
   "metadata": {},
   "outputs": [
    {
     "data": {
      "text/html": [
       "<div>\n",
       "<style scoped>\n",
       "    .dataframe tbody tr th:only-of-type {\n",
       "        vertical-align: middle;\n",
       "    }\n",
       "\n",
       "    .dataframe tbody tr th {\n",
       "        vertical-align: top;\n",
       "    }\n",
       "\n",
       "    .dataframe thead th {\n",
       "        text-align: right;\n",
       "    }\n",
       "</style>\n",
       "<table border=\"1\" class=\"dataframe\">\n",
       "  <thead>\n",
       "    <tr style=\"text-align: right;\">\n",
       "      <th></th>\n",
       "      <th>x</th>\n",
       "      <th>y</th>\n",
       "      <th>z</th>\n",
       "    </tr>\n",
       "  </thead>\n",
       "  <tbody>\n",
       "  </tbody>\n",
       "</table>\n",
       "</div>"
      ],
      "text/plain": [
       "Empty DataFrame\n",
       "Columns: [x, y, z]\n",
       "Index: []"
      ]
     },
     "execution_count": 21,
     "metadata": {},
     "output_type": "execute_result"
    }
   ],
   "source": [
    "small"
   ]
  },
  {
   "cell_type": "code",
   "execution_count": 22,
   "metadata": {},
   "outputs": [],
   "source": [
    "hainaut = pd.DataFrame()\n",
    "hainaut['x'] = base_dsm[0]['x'] + x - 740\n",
    "hainaut['y'] = base_dsm[0]['y'] + y - 740\n",
    "hainaut['z'] = base_dsm[0]['z']"
   ]
  },
  {
   "cell_type": "code",
   "execution_count": 23,
   "metadata": {},
   "outputs": [
    {
     "data": {
      "text/html": [
       "<div>\n",
       "<style scoped>\n",
       "    .dataframe tbody tr th:only-of-type {\n",
       "        vertical-align: middle;\n",
       "    }\n",
       "\n",
       "    .dataframe tbody tr th {\n",
       "        vertical-align: top;\n",
       "    }\n",
       "\n",
       "    .dataframe thead th {\n",
       "        text-align: right;\n",
       "    }\n",
       "</style>\n",
       "<table border=\"1\" class=\"dataframe\">\n",
       "  <thead>\n",
       "    <tr style=\"text-align: right;\">\n",
       "      <th></th>\n",
       "      <th>x</th>\n",
       "      <th>y</th>\n",
       "      <th>z</th>\n",
       "    </tr>\n",
       "  </thead>\n",
       "  <tbody>\n",
       "    <tr>\n",
       "      <th>0</th>\n",
       "      <td>119704.903332</td>\n",
       "      <td>126416.602803</td>\n",
       "      <td>31.150000</td>\n",
       "    </tr>\n",
       "    <tr>\n",
       "      <th>1</th>\n",
       "      <td>119705.903332</td>\n",
       "      <td>126416.602803</td>\n",
       "      <td>31.299999</td>\n",
       "    </tr>\n",
       "    <tr>\n",
       "      <th>2</th>\n",
       "      <td>119706.903332</td>\n",
       "      <td>126416.602803</td>\n",
       "      <td>31.650000</td>\n",
       "    </tr>\n",
       "    <tr>\n",
       "      <th>3</th>\n",
       "      <td>119707.903332</td>\n",
       "      <td>126416.602803</td>\n",
       "      <td>31.190001</td>\n",
       "    </tr>\n",
       "    <tr>\n",
       "      <th>4</th>\n",
       "      <td>119708.903332</td>\n",
       "      <td>126416.602803</td>\n",
       "      <td>31.160000</td>\n",
       "    </tr>\n",
       "    <tr>\n",
       "      <th>...</th>\n",
       "      <td>...</td>\n",
       "      <td>...</td>\n",
       "      <td>...</td>\n",
       "    </tr>\n",
       "    <tr>\n",
       "      <th>2193356</th>\n",
       "      <td>121180.903332</td>\n",
       "      <td>127896.602803</td>\n",
       "      <td>33.540001</td>\n",
       "    </tr>\n",
       "    <tr>\n",
       "      <th>2193357</th>\n",
       "      <td>121181.903332</td>\n",
       "      <td>127896.602803</td>\n",
       "      <td>33.549999</td>\n",
       "    </tr>\n",
       "    <tr>\n",
       "      <th>2193358</th>\n",
       "      <td>121182.903332</td>\n",
       "      <td>127896.602803</td>\n",
       "      <td>33.580002</td>\n",
       "    </tr>\n",
       "    <tr>\n",
       "      <th>2193359</th>\n",
       "      <td>121183.903332</td>\n",
       "      <td>127896.602803</td>\n",
       "      <td>33.590000</td>\n",
       "    </tr>\n",
       "    <tr>\n",
       "      <th>2193360</th>\n",
       "      <td>121184.903332</td>\n",
       "      <td>127896.602803</td>\n",
       "      <td>33.590000</td>\n",
       "    </tr>\n",
       "  </tbody>\n",
       "</table>\n",
       "<p>2193361 rows × 3 columns</p>\n",
       "</div>"
      ],
      "text/plain": [
       "                     x              y          z\n",
       "0        119704.903332  126416.602803  31.150000\n",
       "1        119705.903332  126416.602803  31.299999\n",
       "2        119706.903332  126416.602803  31.650000\n",
       "3        119707.903332  126416.602803  31.190001\n",
       "4        119708.903332  126416.602803  31.160000\n",
       "...                ...            ...        ...\n",
       "2193356  121180.903332  127896.602803  33.540001\n",
       "2193357  121181.903332  127896.602803  33.549999\n",
       "2193358  121182.903332  127896.602803  33.580002\n",
       "2193359  121183.903332  127896.602803  33.590000\n",
       "2193360  121184.903332  127896.602803  33.590000\n",
       "\n",
       "[2193361 rows x 3 columns]"
      ]
     },
     "execution_count": 23,
     "metadata": {},
     "output_type": "execute_result"
    }
   ],
   "source": [
    "hainaut"
   ]
  },
  {
   "cell_type": "code",
   "execution_count": 24,
   "metadata": {},
   "outputs": [],
   "source": [
    "hainaut.to_csv('hainaut.csv', index=False)"
   ]
  },
  {
   "cell_type": "code",
   "execution_count": 25,
   "metadata": {},
   "outputs": [],
   "source": [
    "size = 25"
   ]
  },
  {
   "cell_type": "code",
   "execution_count": 26,
   "metadata": {},
   "outputs": [],
   "source": [
    "tempdf = hainaut[(hainaut[\"x\"] <= x + size) & \n",
    "                    (hainaut[\"x\"] >= x - size) & \n",
    "                    (hainaut[\"y\"] <= y + size) & \n",
    "                    (hainaut[\"y\"] >= y - size)]"
   ]
  },
  {
   "cell_type": "code",
   "execution_count": 27,
   "metadata": {},
   "outputs": [
    {
     "data": {
      "text/html": [
       "<div>\n",
       "<style scoped>\n",
       "    .dataframe tbody tr th:only-of-type {\n",
       "        vertical-align: middle;\n",
       "    }\n",
       "\n",
       "    .dataframe tbody tr th {\n",
       "        vertical-align: top;\n",
       "    }\n",
       "\n",
       "    .dataframe thead th {\n",
       "        text-align: right;\n",
       "    }\n",
       "</style>\n",
       "<table border=\"1\" class=\"dataframe\">\n",
       "  <thead>\n",
       "    <tr style=\"text-align: right;\">\n",
       "      <th></th>\n",
       "      <th>x</th>\n",
       "      <th>y</th>\n",
       "      <th>z</th>\n",
       "    </tr>\n",
       "  </thead>\n",
       "  <tbody>\n",
       "    <tr>\n",
       "      <th>1059630</th>\n",
       "      <td>120419.903332</td>\n",
       "      <td>127131.602803</td>\n",
       "      <td>49.950001</td>\n",
       "    </tr>\n",
       "    <tr>\n",
       "      <th>1059631</th>\n",
       "      <td>120420.903332</td>\n",
       "      <td>127131.602803</td>\n",
       "      <td>49.930000</td>\n",
       "    </tr>\n",
       "    <tr>\n",
       "      <th>1059632</th>\n",
       "      <td>120421.903332</td>\n",
       "      <td>127131.602803</td>\n",
       "      <td>49.860001</td>\n",
       "    </tr>\n",
       "    <tr>\n",
       "      <th>1059633</th>\n",
       "      <td>120422.903332</td>\n",
       "      <td>127131.602803</td>\n",
       "      <td>50.869999</td>\n",
       "    </tr>\n",
       "    <tr>\n",
       "      <th>1059634</th>\n",
       "      <td>120423.903332</td>\n",
       "      <td>127131.602803</td>\n",
       "      <td>49.799999</td>\n",
       "    </tr>\n",
       "    <tr>\n",
       "      <th>...</th>\n",
       "      <td>...</td>\n",
       "      <td>...</td>\n",
       "      <td>...</td>\n",
       "    </tr>\n",
       "    <tr>\n",
       "      <th>1133726</th>\n",
       "      <td>120465.903332</td>\n",
       "      <td>127181.602803</td>\n",
       "      <td>48.419998</td>\n",
       "    </tr>\n",
       "    <tr>\n",
       "      <th>1133727</th>\n",
       "      <td>120466.903332</td>\n",
       "      <td>127181.602803</td>\n",
       "      <td>48.410000</td>\n",
       "    </tr>\n",
       "    <tr>\n",
       "      <th>1133728</th>\n",
       "      <td>120467.903332</td>\n",
       "      <td>127181.602803</td>\n",
       "      <td>48.380001</td>\n",
       "    </tr>\n",
       "    <tr>\n",
       "      <th>1133729</th>\n",
       "      <td>120468.903332</td>\n",
       "      <td>127181.602803</td>\n",
       "      <td>48.360001</td>\n",
       "    </tr>\n",
       "    <tr>\n",
       "      <th>1133730</th>\n",
       "      <td>120469.903332</td>\n",
       "      <td>127181.602803</td>\n",
       "      <td>48.299999</td>\n",
       "    </tr>\n",
       "  </tbody>\n",
       "</table>\n",
       "<p>2601 rows × 3 columns</p>\n",
       "</div>"
      ],
      "text/plain": [
       "                     x              y          z\n",
       "1059630  120419.903332  127131.602803  49.950001\n",
       "1059631  120420.903332  127131.602803  49.930000\n",
       "1059632  120421.903332  127131.602803  49.860001\n",
       "1059633  120422.903332  127131.602803  50.869999\n",
       "1059634  120423.903332  127131.602803  49.799999\n",
       "...                ...            ...        ...\n",
       "1133726  120465.903332  127181.602803  48.419998\n",
       "1133727  120466.903332  127181.602803  48.410000\n",
       "1133728  120467.903332  127181.602803  48.380001\n",
       "1133729  120468.903332  127181.602803  48.360001\n",
       "1133730  120469.903332  127181.602803  48.299999\n",
       "\n",
       "[2601 rows x 3 columns]"
      ]
     },
     "execution_count": 27,
     "metadata": {},
     "output_type": "execute_result"
    }
   ],
   "source": [
    "tempdf"
   ]
  },
  {
   "cell_type": "code",
   "execution_count": 28,
   "metadata": {},
   "outputs": [],
   "source": [
    "meanx = tempdf['x'].mean()\n",
    "meany = tempdf['y'].mean()\n",
    "minz = tempdf['z'].min()"
   ]
  },
  {
   "cell_type": "code",
   "execution_count": 29,
   "metadata": {},
   "outputs": [],
   "source": [
    "final = pd.DataFrame()\n",
    "final['x'] = tempdf['x'] - meanx\n",
    "final['y'] = tempdf['y'] - meany\n",
    "final['z'] = tempdf['z'] - minz"
   ]
  },
  {
   "cell_type": "code",
   "execution_count": 30,
   "metadata": {},
   "outputs": [
    {
     "data": {
      "text/html": [
       "<div>\n",
       "<style scoped>\n",
       "    .dataframe tbody tr th:only-of-type {\n",
       "        vertical-align: middle;\n",
       "    }\n",
       "\n",
       "    .dataframe tbody tr th {\n",
       "        vertical-align: top;\n",
       "    }\n",
       "\n",
       "    .dataframe thead th {\n",
       "        text-align: right;\n",
       "    }\n",
       "</style>\n",
       "<table border=\"1\" class=\"dataframe\">\n",
       "  <thead>\n",
       "    <tr style=\"text-align: right;\">\n",
       "      <th></th>\n",
       "      <th>x</th>\n",
       "      <th>y</th>\n",
       "      <th>z</th>\n",
       "    </tr>\n",
       "  </thead>\n",
       "  <tbody>\n",
       "    <tr>\n",
       "      <th>count</th>\n",
       "      <td>2.601000e+03</td>\n",
       "      <td>2.601000e+03</td>\n",
       "      <td>2601.000000</td>\n",
       "    </tr>\n",
       "    <tr>\n",
       "      <th>mean</th>\n",
       "      <td>-1.455192e-11</td>\n",
       "      <td>1.455192e-11</td>\n",
       "      <td>3.915337</td>\n",
       "    </tr>\n",
       "    <tr>\n",
       "      <th>std</th>\n",
       "      <td>1.472243e+01</td>\n",
       "      <td>1.472243e+01</td>\n",
       "      <td>6.008902</td>\n",
       "    </tr>\n",
       "    <tr>\n",
       "      <th>min</th>\n",
       "      <td>-2.500000e+01</td>\n",
       "      <td>-2.500000e+01</td>\n",
       "      <td>0.000000</td>\n",
       "    </tr>\n",
       "    <tr>\n",
       "      <th>25%</th>\n",
       "      <td>-1.300000e+01</td>\n",
       "      <td>-1.300000e+01</td>\n",
       "      <td>0.579998</td>\n",
       "    </tr>\n",
       "    <tr>\n",
       "      <th>50%</th>\n",
       "      <td>-1.455192e-11</td>\n",
       "      <td>1.455192e-11</td>\n",
       "      <td>1.020000</td>\n",
       "    </tr>\n",
       "    <tr>\n",
       "      <th>75%</th>\n",
       "      <td>1.300000e+01</td>\n",
       "      <td>1.300000e+01</td>\n",
       "      <td>1.879997</td>\n",
       "    </tr>\n",
       "    <tr>\n",
       "      <th>max</th>\n",
       "      <td>2.500000e+01</td>\n",
       "      <td>2.500000e+01</td>\n",
       "      <td>20.779995</td>\n",
       "    </tr>\n",
       "  </tbody>\n",
       "</table>\n",
       "</div>"
      ],
      "text/plain": [
       "                  x             y            z\n",
       "count  2.601000e+03  2.601000e+03  2601.000000\n",
       "mean  -1.455192e-11  1.455192e-11     3.915337\n",
       "std    1.472243e+01  1.472243e+01     6.008902\n",
       "min   -2.500000e+01 -2.500000e+01     0.000000\n",
       "25%   -1.300000e+01 -1.300000e+01     0.579998\n",
       "50%   -1.455192e-11  1.455192e-11     1.020000\n",
       "75%    1.300000e+01  1.300000e+01     1.879997\n",
       "max    2.500000e+01  2.500000e+01    20.779995"
      ]
     },
     "execution_count": 30,
     "metadata": {},
     "output_type": "execute_result"
    }
   ],
   "source": [
    "final.describe()"
   ]
  },
  {
   "cell_type": "code",
   "execution_count": 31,
   "metadata": {},
   "outputs": [],
   "source": [
    "# show_pcd(final)"
   ]
  },
  {
   "cell_type": "code",
   "execution_count": 32,
   "metadata": {},
   "outputs": [
    {
     "name": "stdout",
     "output_type": "stream",
     "text": [
      "[Open3D DEBUG] Input Points / Samples: 2601 / 2601\n",
      "[Open3D DEBUG] #   Got kernel density: 0.0173538 (s), 415.609 (MB) / 415.609 (MB) / 600 (MB)\n",
      "[Open3D DEBUG] #     Got normal field: 0.020304 (s), 416.496 (MB) / 416.496 (MB) / 600 (MB)\n",
      "[Open3D DEBUG] Point weight / Estimated Area: 6.851279e-04 / 1.782018e+00\n",
      "[Open3D DEBUG] #       Finalized tree: 0.036859 (s), 416.754 (MB) / 416.754 (MB) / 600 (MB)\n",
      "[Open3D DEBUG] #  Set FEM constraints: 0.212428 (s), 416.754 (MB) / 416.754 (MB) / 600 (MB)\n",
      "[Open3D DEBUG] #Set point constraints: 0.024121 (s), 416.754 (MB) / 416.754 (MB) / 600 (MB)\n",
      "[Open3D DEBUG] Leaf Nodes / Active Nodes / Ghost Nodes: 116117 / 86608 / 46097\n",
      "[Open3D DEBUG] Memory Usage: 416.754 MB\n",
      "[Open3D DEBUG] # Linear system solved: 0.482317 (s), 416.754 (MB) / 416.754 (MB) / 600 (MB)\n",
      "[Open3D DEBUG] Got average: 0.0160348 (s), 416.754 (MB) / 416.754 (MB) / 600 (MB)\n",
      "[Open3D DEBUG] Iso-Value: 4.926926e-01 = 1.281494e+03 / 2.601000e+03\n",
      "[Open3D DEBUG] #          Total Solve:       2.5 (s),     419.1 (MB)\n"
     ]
    }
   ],
   "source": [
    "pcd = o3d.geometry.PointCloud()\n",
    "pcd.points = o3d.utility.Vector3dVector(final.to_numpy())\n",
    "pcd.estimate_normals(search_param=o3d.geometry.KDTreeSearchParamHybrid(radius=0.1, max_nn=30))\n",
    "\n",
    "with o3d.utility.VerbosityContextManager(o3d.utility.VerbosityLevel.Debug) as cm:\n",
    "    print(pcd)\n",
    "    poisson_mesh, densities = o3d.geometry.TriangleMesh.create_from_point_cloud_poisson(\n",
    "        pcd, depth=8, linear_fit =True)\n",
    "\n",
    "densities = np.asarray(densities)\n",
    "density_colors = plt.get_cmap('viridis')(\n",
    "    (densities - densities.min()) / (densities.max() - densities.min()))\n",
    "density_colors = density_colors[:, :3]\n",
    "density_mesh = o3d.geometry.TriangleMesh()\n",
    "density_mesh.vertices = poisson_mesh.vertices\n",
    "density_mesh.triangles = poisson_mesh.triangles\n",
    "density_mesh.triangle_normals = poisson_mesh.triangle_normals\n",
    "density_mesh.vertex_colors = o3d.utility.Vector3dVector(density_colors)\n",
    "\n",
    "vertices_to_remove = densities < np.quantile(densities, 0.01)\n",
    "density_mesh.remove_vertices_by_mask(vertices_to_remove)"
   ]
  },
  {
   "cell_type": "code",
   "execution_count": 33,
   "metadata": {},
   "outputs": [
    {
     "data": {
      "text/plain": [
       "True"
      ]
     },
     "execution_count": 33,
     "metadata": {},
     "output_type": "execute_result"
    }
   ],
   "source": [
    "o3d.io.write_triangle_mesh(\"houses.obj\", density_mesh)"
   ]
  },
  {
   "cell_type": "code",
   "execution_count": null,
   "metadata": {},
   "outputs": [],
   "source": []
  }
 ],
 "metadata": {
  "kernelspec": {
   "display_name": "Python 3.8.6 64-bit",
   "language": "python",
   "name": "python38664bit87d7fd7a3a8941cabf468d1dd0e87421"
  },
  "language_info": {
   "codemirror_mode": {
    "name": "ipython",
    "version": 3
   },
   "file_extension": ".py",
   "mimetype": "text/x-python",
   "name": "python",
   "nbconvert_exporter": "python",
   "pygments_lexer": "ipython3",
   "version": "3.8.6"
  }
 },
 "nbformat": 4,
 "nbformat_minor": 4
}
