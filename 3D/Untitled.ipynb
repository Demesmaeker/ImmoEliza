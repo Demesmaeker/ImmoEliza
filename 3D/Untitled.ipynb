{
 "cells": [
  {
   "cell_type": "code",
   "execution_count": 1,
   "metadata": {},
   "outputs": [],
   "source": [
    "import numpy as np\n",
    "import pandas as pd\n",
    "import geopandas as gpd\n",
    "from shapely.geometry import Point\n",
    "import open3d as o3d"
   ]
  },
  {
   "cell_type": "code",
   "execution_count": 2,
   "metadata": {},
   "outputs": [],
   "source": [
    "latitude = 3.9525536\n",
    "longitude = 50.4545097\n",
    "size = 100"
   ]
  },
  {
   "cell_type": "code",
   "execution_count": 3,
   "metadata": {},
   "outputs": [],
   "source": [
    "p = gpd.GeoSeries([Point(latitude, longitude)])\n",
    "p.crs = 'epsg:4326'\n",
    "p = p.to_crs(epsg=31370)\n",
    "\n",
    "x = p[0].x\n",
    "y = p[0].y"
   ]
  },
  {
   "cell_type": "code",
   "execution_count": 4,
   "metadata": {},
   "outputs": [],
   "source": [
    "hainaut = pd.read_csv('./hainaut.csv')"
   ]
  },
  {
   "cell_type": "code",
   "execution_count": 5,
   "metadata": {},
   "outputs": [],
   "source": [
    "place = hainaut[(hainaut[\"x\"] <= x + size) & \n",
    "            (hainaut[\"x\"] >= x - size) & \n",
    "            (hainaut[\"y\"] <= y + size) & \n",
    "            (hainaut[\"y\"] >= y - size)]"
   ]
  },
  {
   "cell_type": "code",
   "execution_count": 6,
   "metadata": {},
   "outputs": [
    {
     "data": {
      "text/html": [
       "<div>\n",
       "<style scoped>\n",
       "    .dataframe tbody tr th:only-of-type {\n",
       "        vertical-align: middle;\n",
       "    }\n",
       "\n",
       "    .dataframe tbody tr th {\n",
       "        vertical-align: top;\n",
       "    }\n",
       "\n",
       "    .dataframe thead th {\n",
       "        text-align: right;\n",
       "    }\n",
       "</style>\n",
       "<table border=\"1\" class=\"dataframe\">\n",
       "  <thead>\n",
       "    <tr style=\"text-align: right;\">\n",
       "      <th></th>\n",
       "      <th>x</th>\n",
       "      <th>y</th>\n",
       "      <th>z</th>\n",
       "    </tr>\n",
       "  </thead>\n",
       "  <tbody>\n",
       "    <tr>\n",
       "      <th>949961</th>\n",
       "      <td>120344.903332</td>\n",
       "      <td>127057.602803</td>\n",
       "      <td>58.190000</td>\n",
       "    </tr>\n",
       "    <tr>\n",
       "      <th>949962</th>\n",
       "      <td>120345.903332</td>\n",
       "      <td>127057.602803</td>\n",
       "      <td>58.200000</td>\n",
       "    </tr>\n",
       "    <tr>\n",
       "      <th>949963</th>\n",
       "      <td>120346.903332</td>\n",
       "      <td>127057.602803</td>\n",
       "      <td>58.190000</td>\n",
       "    </tr>\n",
       "    <tr>\n",
       "      <th>949964</th>\n",
       "      <td>120347.903332</td>\n",
       "      <td>127057.602803</td>\n",
       "      <td>58.240000</td>\n",
       "    </tr>\n",
       "    <tr>\n",
       "      <th>949965</th>\n",
       "      <td>120348.903332</td>\n",
       "      <td>127057.602803</td>\n",
       "      <td>58.190000</td>\n",
       "    </tr>\n",
       "    <tr>\n",
       "      <th>...</th>\n",
       "      <td>...</td>\n",
       "      <td>...</td>\n",
       "      <td>...</td>\n",
       "    </tr>\n",
       "    <tr>\n",
       "      <th>1244876</th>\n",
       "      <td>120540.903332</td>\n",
       "      <td>127256.602803</td>\n",
       "      <td>55.447870</td>\n",
       "    </tr>\n",
       "    <tr>\n",
       "      <th>1244877</th>\n",
       "      <td>120541.903332</td>\n",
       "      <td>127256.602803</td>\n",
       "      <td>55.741962</td>\n",
       "    </tr>\n",
       "    <tr>\n",
       "      <th>1244878</th>\n",
       "      <td>120542.903332</td>\n",
       "      <td>127256.602803</td>\n",
       "      <td>56.250000</td>\n",
       "    </tr>\n",
       "    <tr>\n",
       "      <th>1244879</th>\n",
       "      <td>120543.903332</td>\n",
       "      <td>127256.602803</td>\n",
       "      <td>54.480010</td>\n",
       "    </tr>\n",
       "    <tr>\n",
       "      <th>1244880</th>\n",
       "      <td>120544.903332</td>\n",
       "      <td>127256.602803</td>\n",
       "      <td>51.290310</td>\n",
       "    </tr>\n",
       "  </tbody>\n",
       "</table>\n",
       "<p>40200 rows × 3 columns</p>\n",
       "</div>"
      ],
      "text/plain": [
       "                     x              y          z\n",
       "949961   120344.903332  127057.602803  58.190000\n",
       "949962   120345.903332  127057.602803  58.200000\n",
       "949963   120346.903332  127057.602803  58.190000\n",
       "949964   120347.903332  127057.602803  58.240000\n",
       "949965   120348.903332  127057.602803  58.190000\n",
       "...                ...            ...        ...\n",
       "1244876  120540.903332  127256.602803  55.447870\n",
       "1244877  120541.903332  127256.602803  55.741962\n",
       "1244878  120542.903332  127256.602803  56.250000\n",
       "1244879  120543.903332  127256.602803  54.480010\n",
       "1244880  120544.903332  127256.602803  51.290310\n",
       "\n",
       "[40200 rows x 3 columns]"
      ]
     },
     "execution_count": 6,
     "metadata": {},
     "output_type": "execute_result"
    }
   ],
   "source": [
    "place"
   ]
  },
  {
   "cell_type": "code",
   "execution_count": 7,
   "metadata": {},
   "outputs": [],
   "source": [
    "meanx = place['x'].mean()\n",
    "meany = place['y'].mean()\n",
    "minz = place['z'].min()\n",
    "\n",
    "final = pd.DataFrame()\n",
    "final['x'] = place['x'] - meanx\n",
    "final['y'] = place['y'] - meany\n",
    "final['z'] = place['z'] - minz"
   ]
  },
  {
   "cell_type": "code",
   "execution_count": 8,
   "metadata": {},
   "outputs": [
    {
     "name": "stdout",
     "output_type": "stream",
     "text": [
      "[Open3D DEBUG] Input Points / Samples: 40200 / 40200\n",
      "[Open3D DEBUG] #   Got kernel density: 0.0378718 (s), 208.719 (MB) / 208.719 (MB) / 227 (MB)\n",
      "[Open3D DEBUG] #     Got normal field: 0.195382 (s), 226.703 (MB) / 226.703 (MB) / 227 (MB)\n",
      "[Open3D DEBUG] Point weight / Estimated Area: 5.491606e-05 / 2.207626e+00\n",
      "[Open3D DEBUG] #       Finalized tree: 0.229609 (s), 251.969 (MB) / 251.969 (MB) / 251 (MB)\n",
      "[Open3D DEBUG] #  Set FEM constraints: 1.32391 (s), 251.969 (MB) / 251.969 (MB) / 251 (MB)\n",
      "[Open3D DEBUG] #Set point constraints: 0.133619 (s), 251.969 (MB) / 251.969 (MB) / 251 (MB)\n",
      "[Open3D DEBUG] Leaf Nodes / Active Nodes / Ghost Nodes: 596037 / 652440 / 28745\n",
      "[Open3D DEBUG] Memory Usage: 251.969 MB\n",
      "[Open3D DEBUG] # Linear system solved: 24.4348 (s), 281.137 (MB) / 281.137 (MB) / 281 (MB)\n",
      "[Open3D DEBUG] Got average: 0.1341 (s), 281.137 (MB) / 281.137 (MB) / 281 (MB)\n",
      "[Open3D DEBUG] Iso-Value: 5.022038e-01 = 2.018859e+04 / 4.020000e+04\n",
      "[Open3D DEBUG] #          Total Solve:      39.7 (s),     320.9 (MB)\n"
     ]
    },
    {
     "ename": "NameError",
     "evalue": "name 'plt' is not defined",
     "output_type": "error",
     "traceback": [
      "\u001b[0;31m---------------------------------------------------------------------------\u001b[0m",
      "\u001b[0;31mNameError\u001b[0m                                 Traceback (most recent call last)",
      "\u001b[0;32m<ipython-input-8-97511bc449ac>\u001b[0m in \u001b[0;36m<module>\u001b[0;34m\u001b[0m\n\u001b[1;32m      8\u001b[0m \u001b[0;34m\u001b[0m\u001b[0m\n\u001b[1;32m      9\u001b[0m \u001b[0mdensities\u001b[0m \u001b[0;34m=\u001b[0m \u001b[0mnp\u001b[0m\u001b[0;34m.\u001b[0m\u001b[0masarray\u001b[0m\u001b[0;34m(\u001b[0m\u001b[0mdensities\u001b[0m\u001b[0;34m)\u001b[0m\u001b[0;34m\u001b[0m\u001b[0;34m\u001b[0m\u001b[0m\n\u001b[0;32m---> 10\u001b[0;31m density_colors = plt.get_cmap('viridis')(\n\u001b[0m\u001b[1;32m     11\u001b[0m     (densities - densities.min()) / (densities.max() - densities.min()))\n\u001b[1;32m     12\u001b[0m \u001b[0mdensity_colors\u001b[0m \u001b[0;34m=\u001b[0m \u001b[0mdensity_colors\u001b[0m\u001b[0;34m[\u001b[0m\u001b[0;34m:\u001b[0m\u001b[0;34m,\u001b[0m \u001b[0;34m:\u001b[0m\u001b[0;36m3\u001b[0m\u001b[0;34m]\u001b[0m\u001b[0;34m\u001b[0m\u001b[0;34m\u001b[0m\u001b[0m\n",
      "\u001b[0;31mNameError\u001b[0m: name 'plt' is not defined"
     ]
    }
   ],
   "source": [
    "pcd = o3d.geometry.PointCloud()\n",
    "pcd.points = o3d.utility.Vector3dVector(final.to_numpy())\n",
    "pcd.estimate_normals(search_param=o3d.geometry.KDTreeSearchParamHybrid(radius=0.1, max_nn=30))\n",
    "\n",
    "with o3d.utility.VerbosityContextManager(o3d.utility.VerbosityLevel.Debug) as cm:\n",
    "    poisson_mesh, densities = o3d.geometry.TriangleMesh.create_from_point_cloud_poisson(\n",
    "        pcd, depth=8, linear_fit =True)\n",
    "\n",
    "densities = np.asarray(densities)\n",
    "density_colors = plt.get_cmap('viridis')(\n",
    "    (densities - densities.min()) / (densities.max() - densities.min()))\n",
    "density_colors = density_colors[:, :3]\n",
    "density_mesh = o3d.geometry.TriangleMesh()\n",
    "density_mesh.vertices = poisson_mesh.vertices\n",
    "density_mesh.triangles = poisson_mesh.triangles\n",
    "density_mesh.triangle_normals = poisson_mesh.triangle_normals\n",
    "density_mesh.vertex_colors = o3d.utility.Vector3dVector(density_colors)\n",
    "\n",
    "vertices_to_remove = densities < np.quantile(densities, 0.01)\n",
    "density_mesh.remove_vertices_by_mask(vertices_to_remove)"
   ]
  },
  {
   "cell_type": "code",
   "execution_count": null,
   "metadata": {},
   "outputs": [],
   "source": [
    "o3d.io.write_triangle_mesh(\"./3D/3D_houses.obj\", density_mesh)"
   ]
  },
  {
   "cell_type": "code",
   "execution_count": null,
   "metadata": {},
   "outputs": [],
   "source": []
  },
  {
   "cell_type": "code",
   "execution_count": null,
   "metadata": {},
   "outputs": [],
   "source": [
    "o3d.__version__"
   ]
  },
  {
   "cell_type": "code",
   "execution_count": null,
   "metadata": {},
   "outputs": [],
   "source": [
    "import sklearn"
   ]
  },
  {
   "cell_type": "code",
   "execution_count": null,
   "metadata": {},
   "outputs": [],
   "source": [
    "sklearn.__version__"
   ]
  },
  {
   "cell_type": "code",
   "execution_count": null,
   "metadata": {},
   "outputs": [],
   "source": []
  }
 ],
 "metadata": {
  "kernelspec": {
   "display_name": "Python 3.8.6 64-bit",
   "language": "python",
   "name": "python38664bit87d7fd7a3a8941cabf468d1dd0e87421"
  },
  "language_info": {
   "codemirror_mode": {
    "name": "ipython",
    "version": 3
   },
   "file_extension": ".py",
   "mimetype": "text/x-python",
   "name": "python",
   "nbconvert_exporter": "python",
   "pygments_lexer": "ipython3",
   "version": "3.8.6"
  }
 },
 "nbformat": 4,
 "nbformat_minor": 4
}
