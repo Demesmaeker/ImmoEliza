{
 "cells": [
  {
   "cell_type": "markdown",
   "metadata": {},
   "source": [
    "# Create and testing the model"
   ]
  },
  {
   "cell_type": "code",
   "execution_count": 1,
   "metadata": {},
   "outputs": [],
   "source": [
    "import numpy as np\n",
    "from sklearn.datasets import make_regression\n",
    "import matplotlib.pyplot as plt\n",
    "import pandas as pd"
   ]
  },
  {
   "cell_type": "code",
   "execution_count": 2,
   "metadata": {},
   "outputs": [
    {
     "data": {
      "text/html": [
       "<div>\n",
       "<style scoped>\n",
       "    .dataframe tbody tr th:only-of-type {\n",
       "        vertical-align: middle;\n",
       "    }\n",
       "\n",
       "    .dataframe tbody tr th {\n",
       "        vertical-align: top;\n",
       "    }\n",
       "\n",
       "    .dataframe thead th {\n",
       "        text-align: right;\n",
       "    }\n",
       "</style>\n",
       "<table border=\"1\" class=\"dataframe\">\n",
       "  <thead>\n",
       "    <tr style=\"text-align: right;\">\n",
       "      <th></th>\n",
       "      <th>locality</th>\n",
       "      <th>type_of_property</th>\n",
       "      <th>subtype_of_property</th>\n",
       "      <th>price</th>\n",
       "      <th>number_of_rooms</th>\n",
       "      <th>house_area</th>\n",
       "      <th>surface_of_the_land</th>\n",
       "      <th>number_of_facades</th>\n",
       "      <th>swimming_pool</th>\n",
       "      <th>state_of_the_building</th>\n",
       "      <th>city_name</th>\n",
       "      <th>lattitude</th>\n",
       "      <th>longitude</th>\n",
       "    </tr>\n",
       "  </thead>\n",
       "  <tbody>\n",
       "    <tr>\n",
       "      <th>0</th>\n",
       "      <td>1050</td>\n",
       "      <td>house</td>\n",
       "      <td>house</td>\n",
       "      <td>340000</td>\n",
       "      <td>6</td>\n",
       "      <td>203</td>\n",
       "      <td>95</td>\n",
       "      <td>2</td>\n",
       "      <td>0</td>\n",
       "      <td>to be done up</td>\n",
       "      <td>Ixelles</td>\n",
       "      <td>4.381571</td>\n",
       "      <td>50.822285</td>\n",
       "    </tr>\n",
       "    <tr>\n",
       "      <th>1</th>\n",
       "      <td>1050</td>\n",
       "      <td>house</td>\n",
       "      <td>mixed use building</td>\n",
       "      <td>520000</td>\n",
       "      <td>4</td>\n",
       "      <td>200</td>\n",
       "      <td>69</td>\n",
       "      <td>2</td>\n",
       "      <td>0</td>\n",
       "      <td>to renovate</td>\n",
       "      <td>Ixelles</td>\n",
       "      <td>4.381571</td>\n",
       "      <td>50.822285</td>\n",
       "    </tr>\n",
       "    <tr>\n",
       "      <th>2</th>\n",
       "      <td>1050</td>\n",
       "      <td>house</td>\n",
       "      <td>house</td>\n",
       "      <td>599000</td>\n",
       "      <td>4</td>\n",
       "      <td>160</td>\n",
       "      <td>100</td>\n",
       "      <td>2</td>\n",
       "      <td>0</td>\n",
       "      <td>to be done up</td>\n",
       "      <td>Ixelles</td>\n",
       "      <td>4.381571</td>\n",
       "      <td>50.822285</td>\n",
       "    </tr>\n",
       "    <tr>\n",
       "      <th>3</th>\n",
       "      <td>1050</td>\n",
       "      <td>house</td>\n",
       "      <td>house</td>\n",
       "      <td>599000</td>\n",
       "      <td>3</td>\n",
       "      <td>160</td>\n",
       "      <td>130</td>\n",
       "      <td>2</td>\n",
       "      <td>0</td>\n",
       "      <td>good</td>\n",
       "      <td>Ixelles</td>\n",
       "      <td>4.381571</td>\n",
       "      <td>50.822285</td>\n",
       "    </tr>\n",
       "    <tr>\n",
       "      <th>4</th>\n",
       "      <td>1050</td>\n",
       "      <td>house</td>\n",
       "      <td>house</td>\n",
       "      <td>575000</td>\n",
       "      <td>3</td>\n",
       "      <td>171</td>\n",
       "      <td>46</td>\n",
       "      <td>2</td>\n",
       "      <td>0</td>\n",
       "      <td>just renovated</td>\n",
       "      <td>Ixelles</td>\n",
       "      <td>4.381571</td>\n",
       "      <td>50.822285</td>\n",
       "    </tr>\n",
       "  </tbody>\n",
       "</table>\n",
       "</div>"
      ],
      "text/plain": [
       "   locality type_of_property subtype_of_property   price  number_of_rooms  \\\n",
       "0      1050            house               house  340000                6   \n",
       "1      1050            house  mixed use building  520000                4   \n",
       "2      1050            house               house  599000                4   \n",
       "3      1050            house               house  599000                3   \n",
       "4      1050            house               house  575000                3   \n",
       "\n",
       "   house_area  surface_of_the_land  number_of_facades  swimming_pool  \\\n",
       "0         203                   95                  2              0   \n",
       "1         200                   69                  2              0   \n",
       "2         160                  100                  2              0   \n",
       "3         160                  130                  2              0   \n",
       "4         171                   46                  2              0   \n",
       "\n",
       "  state_of_the_building city_name  lattitude  longitude  \n",
       "0         to be done up   Ixelles   4.381571  50.822285  \n",
       "1           to renovate   Ixelles   4.381571  50.822285  \n",
       "2         to be done up   Ixelles   4.381571  50.822285  \n",
       "3                  good   Ixelles   4.381571  50.822285  \n",
       "4        just renovated   Ixelles   4.381571  50.822285  "
      ]
     },
     "execution_count": 2,
     "metadata": {},
     "output_type": "execute_result"
    }
   ],
   "source": [
    "df = pd.read_csv(\"./Datasets/clean_immo.csv\", sep=',')\n",
    "df.head()"
   ]
  },
  {
   "cell_type": "code",
   "execution_count": 7,
   "metadata": {},
   "outputs": [
    {
     "name": "stdout",
     "output_type": "stream",
     "text": [
      "locality                 0\n",
      "type_of_property         0\n",
      "subtype_of_property      0\n",
      "price                    0\n",
      "number_of_rooms          0\n",
      "house_area               0\n",
      "surface_of_the_land      0\n",
      "number_of_facades        0\n",
      "swimming_pool            0\n",
      "state_of_the_building    0\n",
      "city_name                0\n",
      "lattitude                0\n",
      "longitude                0\n",
      "dtype: int64\n"
     ]
    }
   ],
   "source": [
    "print(df.isnull().sum())"
   ]
  },
  {
   "cell_type": "code",
   "execution_count": 4,
   "metadata": {},
   "outputs": [
    {
     "name": "stdout",
     "output_type": "stream",
     "text": [
      "(22127, 12)\n",
      "(22127, 1)\n"
     ]
    }
   ],
   "source": [
    "# x = df.iloc[:, df.columns != 'price'].to_numpy()\n",
    "# y = df.iloc[:,3:4].to_numpy()\n",
    "\n",
    "# print(x.shape)\n",
    "# print(y.shape)"
   ]
  },
  {
   "cell_type": "code",
   "execution_count": 6,
   "metadata": {},
   "outputs": [
    {
     "name": "stdout",
     "output_type": "stream",
     "text": [
      "locality                 0\n",
      "type_of_property         0\n",
      "subtype_of_property      0\n",
      "price                    0\n",
      "number_of_rooms          0\n",
      "house_area               0\n",
      "surface_of_the_land      0\n",
      "number_of_facades        0\n",
      "swimming_pool            0\n",
      "state_of_the_building    0\n",
      "city_name                0\n",
      "lattitude                0\n",
      "longitude                0\n",
      "dtype: int64\n"
     ]
    }
   ],
   "source": []
  },
  {
   "cell_type": "code",
   "execution_count": null,
   "metadata": {},
   "outputs": [],
   "source": []
  },
  {
   "cell_type": "code",
   "execution_count": null,
   "metadata": {},
   "outputs": [],
   "source": []
  },
  {
   "cell_type": "code",
   "execution_count": null,
   "metadata": {},
   "outputs": [],
   "source": []
  },
  {
   "cell_type": "code",
   "execution_count": null,
   "metadata": {},
   "outputs": [],
   "source": []
  },
  {
   "cell_type": "code",
   "execution_count": null,
   "metadata": {},
   "outputs": [],
   "source": []
  },
  {
   "cell_type": "code",
   "execution_count": null,
   "metadata": {},
   "outputs": [],
   "source": []
  },
  {
   "cell_type": "code",
   "execution_count": null,
   "metadata": {},
   "outputs": [],
   "source": []
  }
 ],
 "metadata": {
  "kernelspec": {
   "display_name": "Python 3.8.6 64-bit",
   "language": "python",
   "name": "python38664bit87d7fd7a3a8941cabf468d1dd0e87421"
  },
  "language_info": {
   "codemirror_mode": {
    "name": "ipython",
    "version": 3
   },
   "file_extension": ".py",
   "mimetype": "text/x-python",
   "name": "python",
   "nbconvert_exporter": "python",
   "pygments_lexer": "ipython3",
   "version": "3.8.6"
  }
 },
 "nbformat": 4,
 "nbformat_minor": 4
}
