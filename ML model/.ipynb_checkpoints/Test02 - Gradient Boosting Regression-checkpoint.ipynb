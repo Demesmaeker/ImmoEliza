{
 "cells": [
  {
   "cell_type": "markdown",
   "metadata": {},
   "source": [
    "# Gradient Boosting Regression"
   ]
  },
  {
   "cell_type": "code",
   "execution_count": 1,
   "metadata": {},
   "outputs": [],
   "source": [
    "import numpy as np\n",
    "import pandas as pd"
   ]
  },
  {
   "cell_type": "code",
   "execution_count": 2,
   "metadata": {},
   "outputs": [
    {
     "data": {
      "text/html": [
       "<div>\n",
       "<style scoped>\n",
       "    .dataframe tbody tr th:only-of-type {\n",
       "        vertical-align: middle;\n",
       "    }\n",
       "\n",
       "    .dataframe tbody tr th {\n",
       "        vertical-align: top;\n",
       "    }\n",
       "\n",
       "    .dataframe thead th {\n",
       "        text-align: right;\n",
       "    }\n",
       "</style>\n",
       "<table border=\"1\" class=\"dataframe\">\n",
       "  <thead>\n",
       "    <tr style=\"text-align: right;\">\n",
       "      <th></th>\n",
       "      <th>zip</th>\n",
       "      <th>type_of_property</th>\n",
       "      <th>subtype_of_property</th>\n",
       "      <th>price</th>\n",
       "      <th>number_of_rooms</th>\n",
       "      <th>house_area</th>\n",
       "      <th>surface_of_the_land</th>\n",
       "      <th>number_of_facades</th>\n",
       "      <th>swimming_pool</th>\n",
       "      <th>state_of_the_building</th>\n",
       "      <th>commune</th>\n",
       "      <th>province</th>\n",
       "      <th>region</th>\n",
       "      <th>rank</th>\n",
       "    </tr>\n",
       "  </thead>\n",
       "  <tbody>\n",
       "    <tr>\n",
       "      <th>0</th>\n",
       "      <td>1050</td>\n",
       "      <td>house</td>\n",
       "      <td>house</td>\n",
       "      <td>340000</td>\n",
       "      <td>6</td>\n",
       "      <td>203</td>\n",
       "      <td>95</td>\n",
       "      <td>2</td>\n",
       "      <td>0</td>\n",
       "      <td>to be done up</td>\n",
       "      <td>IXELLES</td>\n",
       "      <td>Bruxelles (19 communes)</td>\n",
       "      <td>Région Bruxelles-capitale</td>\n",
       "      <td>564.0</td>\n",
       "    </tr>\n",
       "    <tr>\n",
       "      <th>1</th>\n",
       "      <td>1880</td>\n",
       "      <td>house</td>\n",
       "      <td>villa</td>\n",
       "      <td>525000</td>\n",
       "      <td>6</td>\n",
       "      <td>250</td>\n",
       "      <td>826</td>\n",
       "      <td>4</td>\n",
       "      <td>0</td>\n",
       "      <td>as new</td>\n",
       "      <td>KAPELLE-OP-DEN-BOS</td>\n",
       "      <td>Brabant Flamand</td>\n",
       "      <td>Région flamande</td>\n",
       "      <td>497.0</td>\n",
       "    </tr>\n",
       "    <tr>\n",
       "      <th>2</th>\n",
       "      <td>4900</td>\n",
       "      <td>house</td>\n",
       "      <td>exceptional property</td>\n",
       "      <td>550000</td>\n",
       "      <td>11</td>\n",
       "      <td>475</td>\n",
       "      <td>1543</td>\n",
       "      <td>4</td>\n",
       "      <td>0</td>\n",
       "      <td>good</td>\n",
       "      <td>SPA</td>\n",
       "      <td>Liège</td>\n",
       "      <td>Région wallonne</td>\n",
       "      <td>522.0</td>\n",
       "    </tr>\n",
       "    <tr>\n",
       "      <th>3</th>\n",
       "      <td>7912</td>\n",
       "      <td>house</td>\n",
       "      <td>villa</td>\n",
       "      <td>550000</td>\n",
       "      <td>4</td>\n",
       "      <td>325</td>\n",
       "      <td>3570</td>\n",
       "      <td>4</td>\n",
       "      <td>0</td>\n",
       "      <td>good</td>\n",
       "      <td>FRASNES-LEZ-ANVAING</td>\n",
       "      <td>Hainaut</td>\n",
       "      <td>Région wallonne</td>\n",
       "      <td>340.0</td>\n",
       "    </tr>\n",
       "    <tr>\n",
       "      <th>4</th>\n",
       "      <td>6032</td>\n",
       "      <td>house</td>\n",
       "      <td>house</td>\n",
       "      <td>550000</td>\n",
       "      <td>5</td>\n",
       "      <td>400</td>\n",
       "      <td>616</td>\n",
       "      <td>3</td>\n",
       "      <td>0</td>\n",
       "      <td>as new</td>\n",
       "      <td>CHARLEROI</td>\n",
       "      <td>Hainaut</td>\n",
       "      <td>Région wallonne</td>\n",
       "      <td>19.0</td>\n",
       "    </tr>\n",
       "  </tbody>\n",
       "</table>\n",
       "</div>"
      ],
      "text/plain": [
       "    zip type_of_property   subtype_of_property   price  number_of_rooms  \\\n",
       "0  1050            house                 house  340000                6   \n",
       "1  1880            house                 villa  525000                6   \n",
       "2  4900            house  exceptional property  550000               11   \n",
       "3  7912            house                 villa  550000                4   \n",
       "4  6032            house                 house  550000                5   \n",
       "\n",
       "   house_area  surface_of_the_land  number_of_facades  swimming_pool  \\\n",
       "0         203                   95                  2              0   \n",
       "1         250                  826                  4              0   \n",
       "2         475                 1543                  4              0   \n",
       "3         325                 3570                  4              0   \n",
       "4         400                  616                  3              0   \n",
       "\n",
       "  state_of_the_building              commune                 province  \\\n",
       "0         to be done up              IXELLES  Bruxelles (19 communes)   \n",
       "1                as new   KAPELLE-OP-DEN-BOS          Brabant Flamand   \n",
       "2                  good                  SPA                    Liège   \n",
       "3                  good  FRASNES-LEZ-ANVAING                  Hainaut   \n",
       "4                as new            CHARLEROI                  Hainaut   \n",
       "\n",
       "                      region   rank  \n",
       "0  Région Bruxelles-capitale  564.0  \n",
       "1            Région flamande  497.0  \n",
       "2            Région wallonne  522.0  \n",
       "3            Région wallonne  340.0  \n",
       "4            Région wallonne   19.0  "
      ]
     },
     "execution_count": 2,
     "metadata": {},
     "output_type": "execute_result"
    }
   ],
   "source": [
    "df = pd.read_csv(\"./Datasets/clean_immo.csv\", sep=',')\n",
    "df.head()"
   ]
  },
  {
   "cell_type": "code",
   "execution_count": 3,
   "metadata": {},
   "outputs": [],
   "source": [
    "house = df[df['type_of_property'] == 'house']\n",
    "apart = df[df['type_of_property'] == 'apartment']"
   ]
  },
  {
   "cell_type": "code",
   "execution_count": 4,
   "metadata": {},
   "outputs": [
    {
     "name": "stdout",
     "output_type": "stream",
     "text": [
      "subtype_of_property       object\n",
      "number_of_rooms            int64\n",
      "house_area                 int64\n",
      "surface_of_the_land        int64\n",
      "number_of_facades          int64\n",
      "swimming_pool              int64\n",
      "state_of_the_building     object\n",
      "rank                     float64\n",
      "dtype: object\n",
      "(21603, 8)\n",
      "(21603, 1)\n"
     ]
    },
    {
     "data": {
      "text/html": [
       "<div>\n",
       "<style scoped>\n",
       "    .dataframe tbody tr th:only-of-type {\n",
       "        vertical-align: middle;\n",
       "    }\n",
       "\n",
       "    .dataframe tbody tr th {\n",
       "        vertical-align: top;\n",
       "    }\n",
       "\n",
       "    .dataframe thead th {\n",
       "        text-align: right;\n",
       "    }\n",
       "</style>\n",
       "<table border=\"1\" class=\"dataframe\">\n",
       "  <thead>\n",
       "    <tr style=\"text-align: right;\">\n",
       "      <th></th>\n",
       "      <th>subtype_of_property</th>\n",
       "      <th>number_of_rooms</th>\n",
       "      <th>house_area</th>\n",
       "      <th>surface_of_the_land</th>\n",
       "      <th>number_of_facades</th>\n",
       "      <th>swimming_pool</th>\n",
       "      <th>state_of_the_building</th>\n",
       "      <th>rank</th>\n",
       "    </tr>\n",
       "  </thead>\n",
       "  <tbody>\n",
       "    <tr>\n",
       "      <th>0</th>\n",
       "      <td>house</td>\n",
       "      <td>6</td>\n",
       "      <td>203</td>\n",
       "      <td>95</td>\n",
       "      <td>2</td>\n",
       "      <td>0</td>\n",
       "      <td>to be done up</td>\n",
       "      <td>564.0</td>\n",
       "    </tr>\n",
       "    <tr>\n",
       "      <th>1</th>\n",
       "      <td>villa</td>\n",
       "      <td>6</td>\n",
       "      <td>250</td>\n",
       "      <td>826</td>\n",
       "      <td>4</td>\n",
       "      <td>0</td>\n",
       "      <td>as new</td>\n",
       "      <td>497.0</td>\n",
       "    </tr>\n",
       "    <tr>\n",
       "      <th>2</th>\n",
       "      <td>exceptional property</td>\n",
       "      <td>11</td>\n",
       "      <td>475</td>\n",
       "      <td>1543</td>\n",
       "      <td>4</td>\n",
       "      <td>0</td>\n",
       "      <td>good</td>\n",
       "      <td>522.0</td>\n",
       "    </tr>\n",
       "    <tr>\n",
       "      <th>3</th>\n",
       "      <td>villa</td>\n",
       "      <td>4</td>\n",
       "      <td>325</td>\n",
       "      <td>3570</td>\n",
       "      <td>4</td>\n",
       "      <td>0</td>\n",
       "      <td>good</td>\n",
       "      <td>340.0</td>\n",
       "    </tr>\n",
       "    <tr>\n",
       "      <th>4</th>\n",
       "      <td>house</td>\n",
       "      <td>5</td>\n",
       "      <td>400</td>\n",
       "      <td>616</td>\n",
       "      <td>3</td>\n",
       "      <td>0</td>\n",
       "      <td>as new</td>\n",
       "      <td>19.0</td>\n",
       "    </tr>\n",
       "  </tbody>\n",
       "</table>\n",
       "</div>"
      ],
      "text/plain": [
       "    subtype_of_property  number_of_rooms  house_area  surface_of_the_land  \\\n",
       "0                 house                6         203                   95   \n",
       "1                 villa                6         250                  826   \n",
       "2  exceptional property               11         475                 1543   \n",
       "3                 villa                4         325                 3570   \n",
       "4                 house                5         400                  616   \n",
       "\n",
       "   number_of_facades  swimming_pool state_of_the_building   rank  \n",
       "0                  2              0         to be done up  564.0  \n",
       "1                  4              0                as new  497.0  \n",
       "2                  4              0                  good  522.0  \n",
       "3                  4              0                  good  340.0  \n",
       "4                  3              0                as new   19.0  "
      ]
     },
     "execution_count": 4,
     "metadata": {},
     "output_type": "execute_result"
    }
   ],
   "source": [
    "hX = house.drop(['zip', 'type_of_property',  'price', 'commune', 'province', 'region'], axis=1)\n",
    "hy = pd.DataFrame()\n",
    "hy['price'] = house['price']\n",
    "print(hX.dtypes)\n",
    "print(hX.shape)\n",
    "print(hy.shape)\n",
    "hX.head()"
   ]
  },
  {
   "cell_type": "code",
   "execution_count": 5,
   "metadata": {},
   "outputs": [
    {
     "name": "stdout",
     "output_type": "stream",
     "text": [
      "subtype_of_property       object\n",
      "number_of_rooms            int64\n",
      "house_area                 int64\n",
      "surface_of_the_land        int64\n",
      "number_of_facades          int64\n",
      "swimming_pool              int64\n",
      "state_of_the_building     object\n",
      "rank                     float64\n",
      "dtype: object\n",
      "(19824, 8)\n",
      "(19824, 1)\n"
     ]
    },
    {
     "data": {
      "text/html": [
       "<div>\n",
       "<style scoped>\n",
       "    .dataframe tbody tr th:only-of-type {\n",
       "        vertical-align: middle;\n",
       "    }\n",
       "\n",
       "    .dataframe tbody tr th {\n",
       "        vertical-align: top;\n",
       "    }\n",
       "\n",
       "    .dataframe thead th {\n",
       "        text-align: right;\n",
       "    }\n",
       "</style>\n",
       "<table border=\"1\" class=\"dataframe\">\n",
       "  <thead>\n",
       "    <tr style=\"text-align: right;\">\n",
       "      <th></th>\n",
       "      <th>subtype_of_property</th>\n",
       "      <th>number_of_rooms</th>\n",
       "      <th>house_area</th>\n",
       "      <th>surface_of_the_land</th>\n",
       "      <th>number_of_facades</th>\n",
       "      <th>swimming_pool</th>\n",
       "      <th>state_of_the_building</th>\n",
       "      <th>rank</th>\n",
       "    </tr>\n",
       "  </thead>\n",
       "  <tbody>\n",
       "    <tr>\n",
       "      <th>19825</th>\n",
       "      <td>ground floor</td>\n",
       "      <td>1</td>\n",
       "      <td>102</td>\n",
       "      <td>166</td>\n",
       "      <td>3</td>\n",
       "      <td>0</td>\n",
       "      <td>as new</td>\n",
       "      <td>391.0</td>\n",
       "    </tr>\n",
       "    <tr>\n",
       "      <th>19826</th>\n",
       "      <td>flat studio</td>\n",
       "      <td>1</td>\n",
       "      <td>30</td>\n",
       "      <td>5036</td>\n",
       "      <td>1</td>\n",
       "      <td>0</td>\n",
       "      <td>good</td>\n",
       "      <td>118.0</td>\n",
       "    </tr>\n",
       "    <tr>\n",
       "      <th>19827</th>\n",
       "      <td>flat studio</td>\n",
       "      <td>1</td>\n",
       "      <td>30</td>\n",
       "      <td>5036</td>\n",
       "      <td>1</td>\n",
       "      <td>0</td>\n",
       "      <td>good</td>\n",
       "      <td>118.0</td>\n",
       "    </tr>\n",
       "    <tr>\n",
       "      <th>19828</th>\n",
       "      <td>apartment</td>\n",
       "      <td>2</td>\n",
       "      <td>60</td>\n",
       "      <td>310</td>\n",
       "      <td>2</td>\n",
       "      <td>0</td>\n",
       "      <td>as new</td>\n",
       "      <td>70.0</td>\n",
       "    </tr>\n",
       "    <tr>\n",
       "      <th>19829</th>\n",
       "      <td>apartment</td>\n",
       "      <td>1</td>\n",
       "      <td>48</td>\n",
       "      <td>128</td>\n",
       "      <td>3</td>\n",
       "      <td>0</td>\n",
       "      <td>just renovated</td>\n",
       "      <td>40.0</td>\n",
       "    </tr>\n",
       "  </tbody>\n",
       "</table>\n",
       "</div>"
      ],
      "text/plain": [
       "      subtype_of_property  number_of_rooms  house_area  surface_of_the_land  \\\n",
       "19825        ground floor                1         102                  166   \n",
       "19826         flat studio                1          30                 5036   \n",
       "19827         flat studio                1          30                 5036   \n",
       "19828           apartment                2          60                  310   \n",
       "19829           apartment                1          48                  128   \n",
       "\n",
       "       number_of_facades  swimming_pool state_of_the_building   rank  \n",
       "19825                  3              0                as new  391.0  \n",
       "19826                  1              0                  good  118.0  \n",
       "19827                  1              0                  good  118.0  \n",
       "19828                  2              0                as new   70.0  \n",
       "19829                  3              0        just renovated   40.0  "
      ]
     },
     "execution_count": 5,
     "metadata": {},
     "output_type": "execute_result"
    }
   ],
   "source": [
    "aX = apart.drop(['zip', 'type_of_property',  'price', 'commune', 'province', 'region'], axis=1)\n",
    "ay = pd.DataFrame()\n",
    "ay['price'] = apart['price']\n",
    "print(aX.dtypes)\n",
    "print(aX.shape)\n",
    "print(ay.shape)\n",
    "aX.head()"
   ]
  },
  {
   "cell_type": "code",
   "execution_count": 6,
   "metadata": {},
   "outputs": [],
   "source": [
    "# Get dummies for object type\n",
    "X_columns_name = ['subtype_of_property', 'state_of_the_building']\n",
    "hX = pd.get_dummies(hX, columns=X_columns_name, prefix=X_columns_name, drop_first=True)\n",
    "aX = pd.get_dummies(aX, columns=X_columns_name, prefix=X_columns_name, drop_first=True)"
   ]
  },
  {
   "cell_type": "code",
   "execution_count": 7,
   "metadata": {},
   "outputs": [],
   "source": [
    "from sklearn.ensemble import GradientBoostingRegressor\n",
    "from sklearn.model_selection import train_test_split"
   ]
  },
  {
   "cell_type": "code",
   "execution_count": 8,
   "metadata": {},
   "outputs": [],
   "source": [
    "hX_train, hX_test, hy_train, hy_test = train_test_split(hX, hy, test_size=0.2)\n",
    "aX_train, aX_test, ay_train, ay_test = train_test_split(aX, ay, test_size=0.2)"
   ]
  },
  {
   "cell_type": "code",
   "execution_count": 81,
   "metadata": {},
   "outputs": [],
   "source": [
    "hest = GradientBoostingRegressor(n_estimators=1000, max_depth=4, min_samples_split=2, learning_rate=0.1, loss='ls')\n",
    "aest = GradientBoostingRegressor(n_estimators=1000, max_depth=4, min_samples_split=2, learning_rate=0.1, loss='ls')"
   ]
  },
  {
   "cell_type": "code",
   "execution_count": 82,
   "metadata": {},
   "outputs": [
    {
     "name": "stderr",
     "output_type": "stream",
     "text": [
      "/home/demes/dev/lib/python3.8/site-packages/sklearn/utils/validation.py:72: DataConversionWarning: A column-vector y was passed when a 1d array was expected. Please change the shape of y to (n_samples, ), for example using ravel().\n",
      "  return f(**kwargs)\n"
     ]
    },
    {
     "data": {
      "text/plain": [
       "GradientBoostingRegressor(max_depth=4, n_estimators=1000)"
      ]
     },
     "execution_count": 82,
     "metadata": {},
     "output_type": "execute_result"
    }
   ],
   "source": [
    "hest.fit(hX_train, hy_train)"
   ]
  },
  {
   "cell_type": "code",
   "execution_count": 83,
   "metadata": {},
   "outputs": [
    {
     "name": "stderr",
     "output_type": "stream",
     "text": [
      "/home/demes/dev/lib/python3.8/site-packages/sklearn/utils/validation.py:72: DataConversionWarning: A column-vector y was passed when a 1d array was expected. Please change the shape of y to (n_samples, ), for example using ravel().\n",
      "  return f(**kwargs)\n"
     ]
    },
    {
     "data": {
      "text/plain": [
       "GradientBoostingRegressor(max_depth=4, n_estimators=1000)"
      ]
     },
     "execution_count": 83,
     "metadata": {},
     "output_type": "execute_result"
    }
   ],
   "source": [
    "aest.fit(aX_train, ay_train)"
   ]
  },
  {
   "cell_type": "code",
   "execution_count": 84,
   "metadata": {},
   "outputs": [
    {
     "name": "stdout",
     "output_type": "stream",
     "text": [
      "Score training House : 0.8780056062617553\n",
      "Score training Apart : 0.8399855631766145\n"
     ]
    }
   ],
   "source": [
    "print(f\"Score training House : {hest.score(hX_train, hy_train)}\")\n",
    "print(f\"Score training Apart : {aest.score(aX_train, ay_train)}\")"
   ]
  },
  {
   "cell_type": "code",
   "execution_count": 85,
   "metadata": {},
   "outputs": [],
   "source": [
    "hy_pred = hest.predict(hX_test)\n",
    "ay_pred = aest.predict(aX_test)"
   ]
  },
  {
   "cell_type": "code",
   "execution_count": 86,
   "metadata": {},
   "outputs": [
    {
     "name": "stdout",
     "output_type": "stream",
     "text": [
      "Score test House : 0.7535592993122314\n",
      "Score test Apart : 0.7477381596251667\n"
     ]
    }
   ],
   "source": [
    "print(f\"Score test House : {hest.score(hX_test, hy_test)}\")\n",
    "print(f\"Score test Apart : {aest.score(aX_test, ay_test)}\")"
   ]
  },
  {
   "cell_type": "markdown",
   "metadata": {},
   "source": [
    "Score test House : 0.7538305840509341\n",
    "Score test Apart : 0.7476305444309661"
   ]
  }
 ],
 "metadata": {
  "kernelspec": {
   "display_name": "Python 3.8.6 64-bit",
   "language": "python",
   "name": "python38664bit87d7fd7a3a8941cabf468d1dd0e87421"
  },
  "language_info": {
   "codemirror_mode": {
    "name": "ipython",
    "version": 3
   },
   "file_extension": ".py",
   "mimetype": "text/x-python",
   "name": "python",
   "nbconvert_exporter": "python",
   "pygments_lexer": "ipython3",
   "version": "3.8.6"
  }
 },
 "nbformat": 4,
 "nbformat_minor": 4
}
