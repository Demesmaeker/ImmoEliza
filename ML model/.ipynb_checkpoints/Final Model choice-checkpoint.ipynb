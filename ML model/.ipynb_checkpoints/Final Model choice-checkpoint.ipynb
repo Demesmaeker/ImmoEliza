{
 "cells": [
  {
   "cell_type": "markdown",
   "metadata": {},
   "source": [
    "# Choosing the model"
   ]
  },
  {
   "cell_type": "markdown",
   "metadata": {},
   "source": [
    "### Simple Linear Regression"
   ]
  },
  {
   "cell_type": "markdown",
   "metadata": {},
   "source": [
    "Score training House : 0.64761942006255\n",
    "\n",
    "Score training Apart : 0.5494958382275894\n",
    "\n",
    "------------------------------------\n",
    "\n",
    "Score test House : 0.6554502433420606\n",
    "\n",
    "Score test Apart : 0.5392487373628179"
   ]
  },
  {
   "cell_type": "markdown",
   "metadata": {},
   "source": [
    "### Gradient Boosting Regression"
   ]
  },
  {
   "cell_type": "markdown",
   "metadata": {},
   "source": [
    "Score training House : 0.8788414927963307\n",
    "    \n",
    "Score training Apart : 0.840021599462287\n",
    "\n",
    "------------------------------------\n",
    "\n",
    "Score test House : 0.7501606637810276\n",
    "\n",
    "Score test Apart : 0.7513279586298759"
   ]
  },
  {
   "cell_type": "markdown",
   "metadata": {},
   "source": [
    "### Random Forest Regressor"
   ]
  },
  {
   "cell_type": "markdown",
   "metadata": {},
   "source": [
    "Score training House : 0.963086040840833\n",
    "\n",
    "Score training Apart : 0.9448757747820851\n",
    "\n",
    "------------------------------------\n",
    "\n",
    "Score test House : 0.7212711756793477\n",
    "\n",
    "Score test Apart : 0.6947569991418275"
   ]
  },
  {
   "cell_type": "markdown",
   "metadata": {},
   "source": [
    "### Model Choice"
   ]
  },
  {
   "cell_type": "markdown",
   "metadata": {},
   "source": [
    "Gradient Bossting Regression works better on this dataset.\n",
    "Now, we have to test out with others variables to adapt the model at best."
   ]
  },
  {
   "cell_type": "markdown",
   "metadata": {},
   "source": [
    "######  (8 variables)  subtype_of_property, number_of_rooms, house_area, surface_of_the_land, number_of_facades, swimming_pool, state_of_the_building, rank"
   ]
  },
  {
   "cell_type": "markdown",
   "metadata": {},
   "source": [
    "Score training House : 0.8788414927963307\n",
    "    \n",
    "Score training Apart : 0.840021599462287\n",
    "\n",
    "------------------------------------\n",
    "\n",
    "Score test House : 0.7501606637810276\n",
    "\n",
    "Score test Apart : 0.7513279586298759"
   ]
  },
  {
   "cell_type": "markdown",
   "metadata": {},
   "source": [
    "######  (7 variables)  Without subtype_of_property"
   ]
  },
  {
   "cell_type": "markdown",
   "metadata": {},
   "source": [
    "Score training House : 0.8682545684475118\n",
    "\n",
    "Score training Apart : 0.8347352950964343\n",
    "\n",
    "------------------------------------\n",
    "\n",
    "Score test House : 0.760593586916947\n",
    "\n",
    "Score test Apart : 0.725884529007169"
   ]
  },
  {
   "cell_type": "markdown",
   "metadata": {},
   "source": [
    "######  (7 variables)  without number_of_rooms"
   ]
  },
  {
   "cell_type": "markdown",
   "metadata": {},
   "source": [
    "Score training House : 0.8724257563299028\n",
    "\n",
    "Score training Apart : 0.8320672651950616\n",
    "\n",
    "------------------------------------\n",
    "\n",
    "Score test House : 0.7624843835426693\n",
    "\n",
    "Score test Apart : 0.7443500350474208"
   ]
  },
  {
   "cell_type": "markdown",
   "metadata": {},
   "source": [
    "######  (7 variables)  Without house_area"
   ]
  },
  {
   "cell_type": "markdown",
   "metadata": {},
   "source": [
    "Score training House : 0.8267452402642939\n",
    "\n",
    "Score training Apart : 0.8176257175566537\n",
    "\n",
    "------------------------------------\n",
    "\n",
    "Score test House : 0.6813334922723464\n",
    "\n",
    "Score test Apart : 0.7145176220145137"
   ]
  },
  {
   "cell_type": "markdown",
   "metadata": {},
   "source": [
    "######  (7 variables)  without surface_of_the_land"
   ]
  },
  {
   "cell_type": "markdown",
   "metadata": {},
   "source": [
    "Score training House : 0.8467440463425145\n",
    "\n",
    "Score training Apart : 0.8454203964757816\n",
    "\n",
    "------------------------------------\n",
    "\n",
    "Score test House : 0.7322695823761278\n",
    "\n",
    "Score test Apart : 0.7301581844591221"
   ]
  },
  {
   "cell_type": "markdown",
   "metadata": {},
   "source": [
    "######  (7 variables)  without number_of_facades"
   ]
  },
  {
   "cell_type": "markdown",
   "metadata": {},
   "source": [
    "Score training House : 0.874790047121169\n",
    "\n",
    "Score training Apart : 0.83862701801799\n",
    "\n",
    "------------------------------------\n",
    "\n",
    "Score test House : 0.7661523247283044\n",
    "\n",
    "Score test Apart : 0.736770156002168"
   ]
  },
  {
   "cell_type": "markdown",
   "metadata": {},
   "source": [
    "######  (7 variables)  without swimming_pool"
   ]
  },
  {
   "cell_type": "markdown",
   "metadata": {},
   "source": [
    "Score training House : 0.8761345381471153\n",
    "\n",
    "Score training Apart : 0.8434279482139873\n",
    "\n",
    "------------------------------------\n",
    "\n",
    "Score test House : 0.7542120822780135\n",
    "\n",
    "Score test Apart : 0.7274720751736403"
   ]
  },
  {
   "cell_type": "markdown",
   "metadata": {},
   "source": [
    "######  (7 variables)  without state_of_the_building"
   ]
  },
  {
   "cell_type": "markdown",
   "metadata": {},
   "source": [
    "Score training House : 0.8532137389893497\n",
    "\n",
    "Score training Apart : 0.8239643833810726\n",
    "\n",
    "------------------------------------\n",
    "\n",
    "Score test House : 0.7246059063461809\n",
    "\n",
    "Score test Apart : 0.7127719132903516"
   ]
  },
  {
   "cell_type": "markdown",
   "metadata": {},
   "source": [
    "######  (7 variables)  without rank"
   ]
  },
  {
   "cell_type": "markdown",
   "metadata": {},
   "source": [
    "Score training House : 0.7096250274109318\n",
    "\n",
    "Score training Apart : 0.5812726535979644\n",
    "\n",
    "------------------------------------\n",
    "\n",
    "Score test House : 0.5362210884977545\n",
    "\n",
    "Score test Apart : 0.3912183360617202"
   ]
  },
  {
   "cell_type": "markdown",
   "metadata": {},
   "source": [
    "###### mini conclusion"
   ]
  },
  {
   "cell_type": "markdown",
   "metadata": {},
   "source": [
    "Essential for both : house_area, surface_of_the_land, state_of_the_building, rank\n",
    "\n",
    "Essential for house only : /\n",
    "\n",
    "Essential for apart only : swimming_pool, number_of_facades, number_of_rooms, subtype_of_property\n",
    "\n",
    "Not essential : /"
   ]
  },
  {
   "cell_type": "markdown",
   "metadata": {},
   "source": [
    "###### House - 4 variables : house_area, surface_of_the_land, state_of_the_building, rank"
   ]
  },
  {
   "cell_type": "markdown",
   "metadata": {},
   "source": [
    "Score training House : 0.8583582171207096\n",
    "\n",
    "------------------------------------\n",
    "\n",
    "Score test House : 0.7337949909905581"
   ]
  },
  {
   "cell_type": "markdown",
   "metadata": {},
   "source": [
    "###### House - 5 variables : subtype_of_property, house_area, surface_of_the_land, state_of_the_building, rank"
   ]
  },
  {
   "cell_type": "markdown",
   "metadata": {},
   "source": [
    "Score training House : 0.8670221211655589\n",
    "\n",
    "------------------------------------\n",
    "\n",
    "Score test House : 0.7538630829093951"
   ]
  },
  {
   "cell_type": "markdown",
   "metadata": {},
   "source": [
    "###### House - 6 variables : subtype_of_property, number_of_rooms, house_area, surface_of_the_land, state_of_the_building, rank"
   ]
  },
  {
   "cell_type": "markdown",
   "metadata": {},
   "source": [
    "Score training House : \n",
    "\n",
    "------------------------------------\n",
    "\n",
    "Score test House : "
   ]
  },
  {
   "cell_type": "code",
   "execution_count": null,
   "metadata": {},
   "outputs": [],
   "source": []
  },
  {
   "cell_type": "code",
   "execution_count": null,
   "metadata": {},
   "outputs": [],
   "source": []
  }
 ],
 "metadata": {
  "kernelspec": {
   "display_name": "Python 3.8.6 64-bit",
   "language": "python",
   "name": "python38664bit87d7fd7a3a8941cabf468d1dd0e87421"
  },
  "language_info": {
   "codemirror_mode": {
    "name": "ipython",
    "version": 3
   },
   "file_extension": ".py",
   "mimetype": "text/x-python",
   "name": "python",
   "nbconvert_exporter": "python",
   "pygments_lexer": "ipython3",
   "version": "3.8.6"
  }
 },
 "nbformat": 4,
 "nbformat_minor": 4
}
